{
 "cells": [
  {
   "cell_type": "markdown",
   "metadata": {},
   "source": [
    "# DDN with Learnable parameters\n",
    "\n",
    "In this tutorial, we extends DDN Robust Pooling to the training of $\\alpha$ parameter, recall from the paper, authors computed the gradient of robust pooling respect to input x. The $\\alpha$ parameter is fixed during proprogation, thus there is no need compute the gradient respect to parameter $\\alpha$. Now we relax this restriction, include $\\alpha$ as a trainable parameter and compute its derivate.\n",
    "\n",
    "In general,the compuation of $Dy(\\alpha)$ is the same as $Dy(x)$: pervious we compute $D^2_{XY}f(x,y), D^2_{YY}f(x,y), D_{X}h(x,y) , D^2_{XY}h(x,y), D^2_{YY}f(x,y)$, now we change every x to $\\alpha$: That is $D^2_{\\alpha Y}f(\\alpha,y), D^2_{YY}f\\alpha,y), D_{\\alpha}h(\\alpha,y) , D^2_{\\alpha Y}h(\\alpha,y), D^2_{YY}f(\\alpha,y). $ Note we write $f(\\alpha,x,y )$ as $f(\\alpha ,y)$ because x can be treated as a constant for $Dy(\\alpha)$."
   ]
  },
  {
   "cell_type": "markdown",
   "metadata": {},
   "source": [
    "## Closed-form Gradient  for robust pooling\n",
    "In this section we compute the closed-form gradient of 4 different robust pooling function: peseudo-huber, huber, welsch and truncated quadratic.\n",
    "\n",
    "Recall the gradient for unconstrained function: $D(y(\\alpha)) = -H^{-1}B$ where $H= D^2_{YY}f(\\alpha, y)$ and $B= D^2_{\\alpha Y} f(\\alpha,y) $\n",
    "\n",
    "### Pseudo- Huber\n",
    "\n",
    "$y \\in  \\text{argmin}_y  \\sum_i^n \\alpha^2 (\\sqrt {1+ \\frac {(y-x_i)^2} {\\alpha^2}}-1)$\n",
    "\n",
    "\n",
    "$Dy(\\alpha) = -\\sum_{i=1}^N \\sum_{j=1}^N((\\frac {y-x_i} {\\alpha})^2 + 1)^{\\frac{3}{2}}(\\frac {(y-x_j)^3} {((\\frac {y-x_j} {\\alpha})^2 + 1)^{\\frac{3}{2}}\\alpha^3})$\n",
    "\n",
    "###  Huber\n",
    "\n",
    "$y \\in \\text{argmin}_y \\sum_{i=1}^N $ $\\begin{cases} \n",
    "\\frac {1} {2} (y-x_i)^2 & \\text{$ |y-x_i| \\leq \\alpha $} \\\\\n",
    "\\alpha(|y-x_i|-\\frac {1} {2} \\alpha) & \\text{otherwise}\\\\\n",
    "\\end{cases}$\n",
    "\n",
    "$Dy(\\alpha) = \\sum_{i=1}^N $ $\\begin{cases} \n",
    "0 & \\text{$ |y-x_i| \\leq \\alpha $} \\\\\n",
    "1 & \\text{$ y - x_i > \\alpha $}\\\\\n",
    "-1 & \\text{$ y - x_i < \\alpha $}\n",
    "\\end{cases}$\n",
    "\n",
    "### Welsch\n",
    "\n",
    "$y \\in  \\text{argmin}_y  \\sum_{i=1}^n (1-exp(- \\frac {(y-x_i)^2} {2\\alpha^2}))$\n",
    "\n",
    "$Dy(\\alpha) = \\sum_{i=1}^N (- \\frac {e^{-\\frac {(y-x_i)^2} {2 \\alpha^2}} (2 (y-x_i) \\alpha^2 - (y-x_i)^3)} {\\alpha^5}) $\n",
    "\n",
    "### Truncated Quadatic\n",
    "\n",
    "$y \\in \\text{argmin}_y \\sum_{i=1}^N $ $\\begin{cases} \n",
    "\\frac {1} {2} (y-x_i)^2 & \\text{$ |y-x_i| \\leq \\alpha $} \\\\\n",
    "\\frac {1} {2} \\alpha^2 & \\text{otherwise}\\\\\n",
    "\\end{cases}$\n",
    "\n",
    "$Dy(\\alpha) = 0$\n",
    "\n",
    "###  Implementation\n",
    "\n",
    "Below is the implmentation of $Dy(\\alpha)$, I adapted some previous code from DDN repository."
   ]
  },
  {
   "cell_type": "code",
   "execution_count": 1,
   "metadata": {},
   "outputs": [],
   "source": [
    "import matplotlib.pyplot as plt\n",
    "import autograd.numpy as np\n",
    "import scipy.optimize as opt\n",
    "import scipy as sci\n",
    "import random\n",
    "import matplotlib.pyplot as plt\n",
    "from autograd import grad, jacobian\n",
    "import sys\n",
    "import torch\n",
    "sys.path.append(\"../\")\n",
    "from ddn.basic.learnable_robust_nodes import LearnableRobustAverage\n",
    "from ddn.basic.learnable_robust_nodes_new import LearnableRobustAverageNew\n",
    "from ddn.basic.robust_nodes import RobustAverage\n",
    "#from ddn.pytorch.learnable_projections import *"
   ]
  },
  {
   "cell_type": "code",
   "execution_count": 2,
   "metadata": {},
   "outputs": [],
   "source": [
    "def dyalpha_closed_form(x,y,alpha,p='pseudo-huber'):\n",
    "    alpha_sq=alpha**2\n",
    "    if p=='pseudo-huber':\n",
    "        dyy = np.array([np.power(1.0 + np.power(y - xi, 2.0) / alpha_sq, -1.5) for xi in x])\n",
    "        dytheta =  np.sum([np.power(y-xi,3)/(np.power(np.power((y-xi)/alpha,2)+1,1.5)*np.power(alpha,3)) for xi in x])\n",
    "    elif p=='huber':\n",
    "        dyy = np.array([1.0 if np.abs(y - xi) <= alpha else 0.0 for xi in x])\n",
    "        dytheta = np.sum(np.array([0.0 if np.abs(y - xi) <= alpha else (1.0 if y-xi>0 else -1.0) for xi in x]))\n",
    "    elif p=='welsch':\n",
    "        z = np.power(x - y, 2.0)\n",
    "        dyy = np.array([(alpha_sq - zi) / (alpha_sq * alpha_sq) * np.exp(-0.5 * zi / alpha_sq) for zi in z])\n",
    "        dytheta=np.sum(np.array([-np.exp(-0.5 * np.power((y - xi)/alpha,2))*((2*(y-xi)*alpha_sq-np.power(y-xi,3))/(alpha**5)) for xi in x])) \n",
    "    elif p=='trunc-quad':\n",
    "        return 0\n",
    "    return -1.0 * dytheta/np.sum(dyy)"
   ]
  },
  {
   "cell_type": "markdown",
   "metadata": {},
   "source": [
    "We can also compute the gradient using pytorch autograd libray"
   ]
  },
  {
   "cell_type": "code",
   "execution_count": 3,
   "metadata": {},
   "outputs": [],
   "source": [
    "def dyalpha(x,y,alpha,p='pseudo-huber'):\n",
    "    fY = grad(f, 1)\n",
    "    #print(\"fy\",fY(x, y, alpha,p))\n",
    "    fYY = jacobian(fY, 1)\n",
    "    fthetaY = jacobian(fY, 2)\n",
    "    return -1.0 * np.linalg.pinv(fYY(x, y, alpha,p)).dot(fthetaY(x, y, alpha,p))"
   ]
  },
  {
   "cell_type": "markdown",
   "metadata": {},
   "source": [
    "We can check the correctness of closed form graident by comparing it with autograd gradient"
   ]
  },
  {
   "cell_type": "code",
   "execution_count": 4,
   "metadata": {},
   "outputs": [],
   "source": [
    "# the objective function from ddn.basic.node\n",
    "def f(x, y, alpha,p='pseudo-huber'):\n",
    "    alpha_sq=alpha**2\n",
    "    if p=='pseudo-huber':\n",
    "        phi= lambda z: (alpha**2) * (np.sqrt(1.0 + np.power(z, 2.0) / (alpha**2)) - 1.0)\n",
    "    elif p=='huber':\n",
    "        phi = lambda z: np.where(np.abs(z) <= alpha, 0.5 * np.power(z, 2.0), alpha * np.abs(z) - 0.5 * alpha_sq)\n",
    "    elif p=='welsch':\n",
    "        phi = lambda z: 1.0 - np.exp(-0.5 * np.power(z, 2.0) / alpha_sq)\n",
    "    elif p=='trunc-quad':\n",
    "        phi = lambda z: np.minimum(0.5 * np.power(z, 2.0), 0.5 * alpha_sq)\n",
    "    return np.sum([phi(y - xi) for xi in x])\n",
    "\n",
    "# the solve objective function from ddn.basic.node\n",
    "def solve(x,alpha ,f, p='pseudo-huber'):\n",
    "    result = opt.minimize(lambda y : f(x, y, alpha,p), np.mean(x))\n",
    "    return result.x"
   ]
  },
  {
   "cell_type": "code",
   "execution_count": 5,
   "metadata": {},
   "outputs": [],
   "source": [
    "\n",
    "n = 10 # number of input points\n",
    "y_target = np.array([0.0])\n",
    "x_init = np.random.rand(n)\n",
    "# add an outlier\n",
    "x_init[np.random.randint(len(x_init))] += 100.0 * np.random.rand(1)\n",
    "x_init=np.array([ 1.4748, -0.0034,  2.1072, -0.0675, -0.7821, -0.9080, -2.0427,\n",
    "          -1.9460,  1.7862,  0.1601])\n",
    "alpha_init = random.uniform(0.1, 10)"
   ]
  },
  {
   "cell_type": "code",
   "execution_count": 6,
   "metadata": {},
   "outputs": [
    {
     "name": "stdout",
     "output_type": "stream",
     "text": [
      "x: [ 1.4748 -0.0034  2.1072 -0.0675 -0.7821 -0.908  -2.0427 -1.946   1.7862\n",
      "  0.1601]\n",
      "alpha: 3.323251798608022\n",
      "[-0.02214]\n",
      "6.251444836489072\n",
      "[0.00510681]\n",
      "0.005106805731382436\n"
     ]
    }
   ],
   "source": [
    "print('x:',x_init)\n",
    "print('alpha:',alpha_init)\n",
    "print(np.array([np.mean(x_init)]))\n",
    "print(f(x_init,np.array([np.mean(x_init)]),1.0))\n",
    "print(dyalpha(x_init,np.array([np.mean(x_init)]),alpha_init,'pseudo-huber'))\n",
    "print(dyalpha_closed_form(x_init,np.array([np.mean(x_init)]),alpha_init,'pseudo-huber'))\n",
    "# valid the analyic gradient is the same as autograd solution\n",
    "#print(\"error between autograd and closed-form:\")\n",
    "#y_init = solve(x_init,alpha_init,f,'pseudo-huber')\n",
    "#print(\"pseudo-huber \",abs(dyalpha_closed_form(x_init,y_init,alpha_init,'pseudo-huber')-dyalpha(x_init,y_init,alpha_init,'pseudo-huber')))\n",
    "#y_init = solve(x_init,alpha_init,f,'huber')\n",
    "#print(\"huber \",abs(dyalpha_closed_form(x_init,y_init,alpha_init,'huber')-dyalpha(x_init,y_init,alpha_init,'huber')))\n",
    "#y_init = solve(x_init,alpha_init,f,'welsch')\n",
    "#print(\"welsch \",abs(dyalpha_closed_form(x_init,y_init,alpha_init,'welsch')-dyalpha(x_init,y_init,alpha_init,'welsch')))\n",
    "#y_init = solve(x_init,alpha_init,f,'trunc-quad')\n",
    "#print(\"trunc-quad\",abs(dyalpha_closed_form(x_init,y_init,alpha_init,'trunc-quad')-dyalpha(x_init,y_init,alpha_init,'trunc-quad')))"
   ]
  },
  {
   "cell_type": "markdown",
   "metadata": {},
   "source": [
    "## Closed-form Gradient  for ball projection\n",
    "Similar to robust pooling, we can compute the gradient respect to ball projection. \n",
    "\n",
    "Recall the gradient for equal constrained function:\n",
    "\n",
    "$$\n",
    "\\begin{array}{lll}\n",
    "    &Dy(r) = (H^{-1} A^T(AH^{-1}A^T)^{-1}AH^{-1}B-C)-H^{-1}B\\\\\n",
    "    &A = D_Y h(x,y, r)\\\\\n",
    "    &B = D^2_{rY} f(x,y, r) - \\sum_{i=1}^pD^2_{rY} h_i(x,y, r)\\\\\n",
    "    &C= D_r h(x,y, r)\\\\\n",
    "    &H= D^2_{YY} f(x,y, r) - \\sum_{i=1}^pD^2_{YY} h_i(x,y, r)\\\\\n",
    "\\end{array}\n",
    "$$\n",
    "\n",
    "The ball projection problem in general is defined:\n",
    "\n",
    "\\begin{array}{lll}\n",
    "    y \\in & \\text{argmin}_u & \\frac{1}{2} \\|u - x\\|^2_2 \\\\\n",
    "    & \\text{subject to} & \\|x\\|_p = r \\\\\n",
    "\\end{array}\n",
    "\n",
    "### 1. analyical gradient using DDN theorm with equality constraint.\n",
    "### L2 norm:\n",
    "\n",
    "$$\n",
    "\\begin{array}{lll}\n",
    "    y \\in & \\text{argmin}_u & \\frac{1}{2} \\|u - x\\|^2 \\\\\n",
    "    & \\text{subject to} & u_1^2 + u_2^2 - r^2 = 0 \\\\\n",
    "    & & \n",
    "\\end{array}\n",
    "\\begin{array}{lll}\n",
    "    y \\in & \\text{argmin}_u & \\frac{1}{2} \\|u - x\\|^2 \\\\\n",
    "    & \\text{subject to} & u_1^2 + u_2^2 - r^2 = 0 \\\\\n",
    "    & & \n",
    "\\end{array}\n",
    "$$\n",
    "#### (a) analyical gradient using DDN theorm with equality constraint.\n",
    "$$\n",
    "\\begin{array}{llll}\n",
    "    A = \\text{D}_{Y} h(r,y) &= 2 u^T \\\\\n",
    "    B = \\text{D}^2_{rY} f(r, y) - \\sum_{i=1}^{3} \\lambda_i \\text{D}^2_{rY} h_i(r,y) &=0 \\\\\n",
    "    C = \\text{D}_{Y} h(r,y) &= -2r\\\\\n",
    "    2u^T \\lambda= u^T -x^T \\Rightarrow \\lambda= \\sqrt{\\frac {(u^T-x^T)(u-x)} {4^T}}\\\\ \n",
    "    H = \\text{D}^2_{YY} f(r, y) - \\sum_{i=1}^{3} \\lambda_i \\text{D}^2_{YY} h_i(r,y) &= (1 - 2 \\lambda_1) I \\\\\n",
    "    Dy(r) =  r \\cdot \\frac {y} {y^T y}\n",
    "\\end{array}\n",
    "$$\n",
    "#### (b)analyical gradient of closed form\n",
    "$$\n",
    "\\begin{array}{lll}\n",
    "    y(x,r) = \\frac {r} {\\| x\\|_2} x\\\\\n",
    "    Dy(r) = \\frac {1} {\\| x\\|_2} x\\\\\n",
    "\\end{array}\n",
    "$$\n",
    "#### (c)gradient using DDN theorm with autograd.\n",
    "$$\n",
    "\\begin{array}{lll}\n",
    "    Dy(r) = (H^{-1} A^T(AH^{-1}A^T)^{-1}AH^{-1}B-C)-H^{-1}B\n",
    "\\end{array}\n",
    "$$\n",
    "### L1 norm:\n",
    "\n",
    "\\begin{array}{lll}\n",
    "    y \\in & \\text{argmin}_u & \\frac{1}{2} \\|u - x\\|^2 \\\\\n",
    "    & \\text{subject to} & \\sum_i |x_i|  - r = 0 \\\\\n",
    "    & & \n",
    "\\end{array}\n",
    "\n",
    "### Ln norm:\n",
    "\n",
    "\n",
    "\\begin{array}{lll}\n",
    "    y \\in & \\text{argmin}_u & \\frac{1}{2} \\|u - x\\|^2 \\\\\n",
    "    & \\text{subject to} & \\max_i |x_i|  - r = 0 \\\\\n",
    "    & & \n",
    "\\end{array}\n",
    "\n",
    "After Calculation, it turns out, for L1 and Ln norm:\n",
    "\\begin{array}{lll}\n",
    "   B=0 \\\\\n",
    "   H= I\\\\\n",
    "   C=-1 \\\\\n",
    "   Dy(r) = \\frac {a^T} {\\| a\\|_2^2}\\\\ \n",
    "   a= D_y h(r,y)\n",
    "\\end{array}\n",
    "\n",
    "The only difference is they have different $a$: \n",
    "\n",
    "For L1 norm, $a=vec\\{indictor(i \\in I^*) sign(y_i)\\}$\n",
    "\n",
    "For Ln norm, $a=vec\\{(y_i)\\}$\n",
    "\n",
    "Below is the implmentation of $Dy(r)$, I adapted some previous code from DDN repository."
   ]
  },
  {
   "cell_type": "code",
   "execution_count": 7,
   "metadata": {},
   "outputs": [],
   "source": [
    "# objective \n",
    "def f(r,y,x):\n",
    "    return 0.5* np.dot(y-x,y-x)\n",
    "\n",
    "# constraint\n",
    "def h(r,y,norm):\n",
    "    if norm=='L1':\n",
    "       # print(np.linalg.norm(y, 1)- np.sum(np.abs(y)))\n",
    "        return np.sum(np.abs(y))-r\n",
    "    if norm=='Ln':\n",
    "        # print(np.max(np.abs(y))-np.linalg.norm(y, np.inf))\n",
    "        return np.max(np.abs(y)) - r\n",
    "    elif norm=='L2':\n",
    "        return np.dot(y,y) - r**2\n",
    "# forward solve\n",
    "def solve_opt(x,r,f,norm):\n",
    "    result = opt.minimize(lambda y: f(r, y ,x), np.ones(np.shape(x)[0]),constraints=[{'type':'eq', 'fun': lambda y: h(r,y,norm)}] )\n",
    "    return result.x\n",
    "\n",
    "# forward solve (L2 norm only)\n",
    "def solve_analyical(x,r):\n",
    "    return r / np.sqrt(np.dot(x, x)) * x"
   ]
  },
  {
   "cell_type": "markdown",
   "metadata": {},
   "source": [
    "The gradient for L2, L1 and Ln. For L2 we write down the gradient with closed form for check. We write the gradient by autograd for check too."
   ]
  },
  {
   "cell_type": "code",
   "execution_count": 8,
   "metadata": {},
   "outputs": [],
   "source": [
    "def gradient_closed_form_L2(r,x):\n",
    "    return 1 / np.sqrt(np.dot(x, x)) * x\n",
    "\n",
    "def gradient_L2(r,x):\n",
    "    y = solve_analyical(x,r)\n",
    "    # a = 2*y\n",
    "    # B = np.zeros(2)\n",
    "    # C = -2*r\n",
    "    # nu = np.sqrt(np.sum((y-x)**2)/(4*np.sum(y**2)))\n",
    "    # H =(1-2*nu) *np.eye(2)\n",
    "    return r*y/(np.sum(y*y))\n",
    "\n",
    "def gradient_L1(r,x):\n",
    "    y= solve_opt(x,r,f,'L1')\n",
    "    a = np.sign(y)\n",
    "    #nu= (y-x)[0]*a[0]\n",
    "    #B = np.zeros(2)- nu*np.zeros(2)\n",
    "    #C = -1.0\n",
    "    #H = np.eye(2)-nu*np.zeros(2)\n",
    "    return a/(a@a)\n",
    "\n",
    "def gradient_Ln(r,x):\n",
    "    y= solve_opt(x,r,f,'Ln')\n",
    "    print('y:',y)\n",
    "    y=np.round(y,4)\n",
    "    print('y:',y)\n",
    "    a = np.array([0 if np.abs(yi)<np.max(np.abs(y)) else np.sign(yi) for yi in y])\n",
    "    #idx= np.where(y==y[np.abs(y)>=np.max(np.abs(y))])\n",
    "    #nu=np.sign(y)[idx]* (y-x)[idx]\n",
    "    #B= np.zeros(2)- nu*np.zeros(2)\n",
    "    #C= -1.0\n",
    "    print('a',a)\n",
    "    #H = np.eye(2)-nu*np.zeros(2)\n",
    "    print(a/(a@a))\n",
    "    return a/(a@a)\n",
    "\n",
    "def gradient_by_auto_diff(r,x,norm):\n",
    "    fY = grad(f, 1)\n",
    "    hY = grad(h,1)\n",
    "    hR = grad(h,0)\n",
    "    frY = jacobian(fY, 0)\n",
    "    fYY = jacobian(fY, 1)\n",
    "    hYY = jacobian(hY, 1)\n",
    "    hrY= jacobian(hY, 0)\n",
    "    y= solve_opt(x,r,f,norm)\n",
    "    #y=solve_analyical(x,r)\n",
    "    # print(y-solve_analyical(x,r))\n",
    "    indx = np.nonzero(hY(r, y,norm))\n",
    "    if len(indx[0]) == 0:\n",
    "        nu= 0.0\n",
    "    nu = fY(r, y, x)[indx[0][0]] / hY(r, y, norm)[indx[0][0]]\n",
    "    H = fYY(r, y, x) - nu * hYY(r, y, norm)\n",
    "    a = hY(r, y, norm)\n",
    "    B = frY(r, y, x) - nu * hrY(r, y, norm)\n",
    "    C = hR(r, y, norm)\n",
    "    con = np.stack((a, B), axis=1)\n",
    "    try:\n",
    "        v = sci.linalg.solve(H, con, assume_a='pos')\n",
    "    except:\n",
    "         return np.full((2, 1), np.nan).squeeze()\n",
    "    #print(nu,fYY(r, y, x),hYY(r, y, norm))\n",
    "    return (np.outer(v[:, 0], (v[:, 0].dot(B) - C) / v[:, 0].dot(a)) - v[:, 1:1 + 1]).squeeze()"
   ]
  },
  {
   "cell_type": "markdown",
   "metadata": {},
   "source": [
    "Random generate x and r, check error between the gradient computed by different form."
   ]
  },
  {
   "cell_type": "code",
   "execution_count": 9,
   "metadata": {},
   "outputs": [
    {
     "name": "stdout",
     "output_type": "stream",
     "text": [
      "x: [-1.2419  1.18   -0.7854 -0.7418]\n",
      "r: 0.6128\n",
      "error:\n",
      "L2 closed form and L2 analytical DDN:  1.6653345369377348e-16\n",
      "L2 analytical DDN and L2 autograd:  1.2798437478145352e-06\n",
      "L1 analytical DDN and L1 autograd:  0.0\n",
      "y: [-0.61279767  0.61279734 -0.61279827 -0.6128    ]\n",
      "y: [-0.6128  0.6128 -0.6128 -0.6128]\n",
      "a [-1.  1. -1. -1.]\n",
      "[-0.25  0.25 -0.25 -0.25]\n",
      "Ln analytical DDN and Ln autograd:  0.5\n"
     ]
    },
    {
     "name": "stderr",
     "output_type": "stream",
     "text": [
      "/students/u6361796/.conda/envs/myconda/lib/python3.7/site-packages/autograd/tracer.py:14: UserWarning: Output seems independent of input.\n",
      "  warnings.warn(\"Output seems independent of input.\")\n"
     ]
    }
   ],
   "source": [
    "x= np.array([-1.2419,  1.1800, -0.7854, -0.7418])\n",
    "#r= random.uniform(0.1, 10)\n",
    "r=np.array(0.6128)\n",
    "print('x:',x)\n",
    "print('r:',r)\n",
    "print(\"error:\")\n",
    "print(\"L2 closed form and L2 analytical DDN: \", abs(np.sum(gradient_L2(r,x)-gradient_closed_form_L2(r,x) )))\n",
    "print(\"L2 analytical DDN and L2 autograd: \", abs(np.sum(gradient_L2(r,x)-gradient_by_auto_diff(r,x,'L2') )))\n",
    "print(\"L1 analytical DDN and L1 autograd: \", abs(np.sum(gradient_L1(r,x)-gradient_by_auto_diff(r,x,'L1') )))\n",
    "print(\"Ln analytical DDN and Ln autograd: \", abs(np.sum(gradient_Ln(r,x)-gradient_by_auto_diff(r,x,'Ln') )))\n",
    "#node= L1Sphere()\n",
    "#obj,_= node.project(torch.as_tensor(x), torch.as_tensor(r))\n",
    "#print(\"L1 analytical DDN and Ln prtorch: \", node.gradient(torch.tensor([1]),obj,torch.tensor(x))[1]-np.sum(gradient_L1(r,x)))\n",
    "#node= LInfSphere()\n",
    "#obj,_= node.project(torch.as_tensor(x), torch.as_tensor(r))\n",
    "#print(\"Ln analytical DDN and Ln pytorch: \", node.gradient(torch.tensor([1]),obj,torch.tensor(x))[1]-np.sum(gradient_Ln(r,x)))"
   ]
  },
  {
   "cell_type": "markdown",
   "metadata": {},
   "source": [
    "## Learnable parameter on a bi-level optimisation problem\n",
    "We can test the DDN with learnable parameter on bi-level optimisation problem. We use sum of squared error as the upper level loss function\n",
    "\n",
    "$$\n",
    "\\begin{array}{ll}\n",
    "    \\text{minimize}_x & \\frac{1}{2} \\|y - y^\\text{target}\\|^2 \\\\\n",
    "    \\text{subject to} & y \\in \\left\\{ \\begin{array}{ll}\n",
    "        \\text{argmin}_u & f(x, u)\\\\\n",
    "        \\text{subject to} & h(x, u) = 0\n",
    "        \\end{array} \\right\\}\n",
    "\\end{array}\n",
    "$$\n",
    "\n",
    "We will use Simple Gradient and LFBGS mathod to backpropogate and learn the parameter.  I adapted two methods from previous tutorials."
   ]
  },
  {
   "cell_type": "code",
   "execution_count": 37,
   "metadata": {},
   "outputs": [],
   "source": [
    "def lbfgs(node, y_target, max_iters=1000,x_init=None, theta_init=None, verbose=True, train_x=False):\n",
    "    \"\"\"\n",
    "    Example of using scipy.optimize to solve the problem via L-BFGS.\n",
    "    \"\"\"\n",
    "    theta_start = theta_init if theta_init is not None else 1.0\n",
    "    x_start = (x_init.clone() if type(x_init)==torch.Tensor else x_init.copy()) if x_init is not None else 1.0\n",
    "    if train_x:\n",
    "        para= torch.cat((x_start,torch.tensor([theta_start]))) if type(x_start)==torch.tensor else np.concatenate((x_start, np.array([theta_start])), axis=0)\n",
    "    else:\n",
    "        para= theta_start\n",
    "    def J(para):\n",
    "        if train_x:\n",
    "            x= para[:-1]\n",
    "            theta=para[-1]\n",
    "        else:\n",
    "            x=x_init\n",
    "            theta=para\n",
    "        if type(node)==LearnableRobustAverageNew:\n",
    "            y, _ = node.solve(x, theta)\n",
    "            return 0.5 * np.sum(np.square(y - y_target))\n",
    "        else:\n",
    "            x=torch.tensor(x)\n",
    "            theta=torch.tensor(theta)\n",
    "            y, _ = node.project(x, theta)\n",
    "            return  0.5 * ((y - y_target)**2).sum()\n",
    "    def dJdtheta(para):\n",
    "        if train_x:\n",
    "            x= para[:-1]\n",
    "            theta=para[-1]\n",
    "        else:\n",
    "            x=x_init\n",
    "            theta=para\n",
    "        if type(node)==LearnableRobustAverageNew:\n",
    "            y, _ = node.solve(x, theta)\n",
    "            dx,dr= node.gradient(x, y, theta)\n",
    "            DJdx=np.dot(y - y_target,dx).reshape((node.dim_x,))\n",
    "            DJdr=(y - y_target)*dr\n",
    "            if train_x:\n",
    "                return np.concatenate((DJdx,DJdr),axis=0)\n",
    "            else:\n",
    "                return DJdr\n",
    "        else:\n",
    "            x=torch.tensor(x)\n",
    "            theta=torch.tensor(theta)\n",
    "            y, is_outside = node.project(x, theta)\n",
    "            DJdx, DJdtheta = node.gradient((y - y_target),x, y,is_outside)\n",
    "            if train_x:\n",
    "                return torch.cat((DJdx,torch.tensor([DJdtheta])))\n",
    "            else:\n",
    "                return torch.tensor([DJdtheta])\n",
    "    history = [J(para)]\n",
    "    thetas=[theta_start]\n",
    "    if type(node)==LearnableRobustAverageNew:\n",
    "        ys=[node.solve(x_start, theta_start)]\n",
    "    else:\n",
    "        ys=[node.project(x_start, theta_start)]\n",
    "    def callback(para):\n",
    "        if train_x:\n",
    "            x= para[:-1]\n",
    "            theta=para[-1]\n",
    "        else:\n",
    "            x=x_init\n",
    "            theta=para\n",
    "        thetas.append(theta)\n",
    "        history.append(J(para))\n",
    "        if type(node)==LearnableRobustAverageNew:\n",
    "            ys.append(node.solve(x, theta))\n",
    "        else:\n",
    "            x=torch.tensor(x)\n",
    "            theta=torch.tensor(theta)\n",
    "            ys.append(node.project(x, theta))\n",
    "    opts = {'maxiter': max_iters, 'disp': verbose}\n",
    "    result = opt.minimize(J, para, args=(), method='L-BFGS-B', jac=dJdtheta, options=opts, callback=callback)\n",
    "    if train_x:\n",
    "        x_final= result.x[:-1]\n",
    "        theta_final= result.x[-1]\n",
    "        if type(node)!=LearnableRobustAverageNew:\n",
    "            x_final=torch.tensor(x_final)\n",
    "            theta_final=torch.tensor([theta_final])\n",
    "    else:\n",
    "        x_final =x_init\n",
    "        theta_final= result.x\n",
    "    return theta_final, history,thetas,ys,x_final\n",
    "\n",
    "\n",
    "def simpleGradientDescent(node, y_target, step_size=1.0e-3, tol=1.0e-6, max_iters=10000,x_init = None, theta_init=None, verbose=False,train_x=False):\n",
    "    theta = theta_init if theta_init is not None else 0\n",
    "    if type(node)==LearnableRobustAverageNew:\n",
    "        x = x_init.copy()\n",
    "        J = lambda y : 0.5 * np.sum(np.square(y - y_target))\n",
    "    else:\n",
    "        x = x_init.clone()\n",
    "        J = lambda y : 0.5 * ((y - y_target)**2).sum()\n",
    "    dJdy = lambda y : y - y_target\n",
    "    history = []\n",
    "    thetas=[]\n",
    "    ys=[]\n",
    "    for i in range(max_iters):\n",
    "        # solve the lower-level problem and compute the upper-level objective\n",
    "        if type(node)==LearnableRobustAverageNew:\n",
    "            y, _ = node.solve(x,theta)\n",
    "        else:\n",
    "            y, is_outside = node.project(x,theta)\n",
    "        history.append(J(y))\n",
    "        if verbose: print(\"{:5d}: {}\".format(i, history[-1]))\n",
    "#         if (len(history) > 2) and (history[-2] - history[-1]) < tol:\n",
    "#             break\n",
    "        # compute the gradient of the upper-level objective with respect to x via the chain rule\n",
    "        if type(node)==LearnableRobustAverageNew:\n",
    "            dydx,dydtheta= node.gradient(x, y,theta)\n",
    "            dJdx = np.dot(dJdy(y), dydx)\n",
    "            dJdtheta = np.dot(dJdy(y), dydtheta)\n",
    "        else:\n",
    "            dJdx,dJdtheta = node.gradient(dJdy(y),x,y,is_outside)\n",
    "        # take a step in the negative gradient direction\n",
    "        theta -= step_size * dJdtheta\n",
    "        if train_x:\n",
    "            x -= step_size * dJdx\n",
    "        if type(node)==LearnableRobustAverageNew:\n",
    "            thetas.append(theta.copy())\n",
    "        else:\n",
    "            thetas.append(theta.clone())\n",
    "        ys.append(y)\n",
    "    return theta, history,thetas,ys,x"
   ]
  },
  {
   "cell_type": "markdown",
   "metadata": {},
   "source": [
    "### Set input x fix, learn parameters\n",
    "\n",
    "We first observe the converage of parameters($\\alpha$ and $r$) while setting the input x fixed: We generate target and init y with same x but different parameters. We generate all this data randomly.\n",
    "\n",
    "<span style=\"color:red\">Sometimes it is possible that $\\alpha,r$ run into negative, in this case the program will stop running as it is infeasible now, I am still trying to fix the bug in this situation.</span> \n",
    "### Set input x fix, learn parameters\n",
    "By set train_x= True, we can learnable both x and parameter at the same time. \n",
    "#### On robust pooling:"
   ]
  },
  {
   "cell_type": "code",
   "execution_count": 38,
   "metadata": {},
   "outputs": [
    {
     "name": "stdout",
     "output_type": "stream",
     "text": [
      "0.6861177261579816\n",
      "0.5282906522634214\n"
     ]
    }
   ],
   "source": [
    "np.random.seed(1123)\n",
    "x_init=np.random.rand(50)\n",
    "idx= np.random.choice(50, 5)\n",
    "x_true=x_init.copy()\n",
    "x_init[idx] += x_init[idx]+1\n",
    "\n",
    "train_x=False\n",
    "# #train_x=True\n",
    "\n",
    "# if train_x:\n",
    "#     x_true=np.random.rand(5)\n",
    "#     x_true[np.random.randint(len(x_true))] += 100.0 * np.random.rand(1)\n",
    "# else:\n",
    "#     x_true=x_init.copy()\n",
    "    \n",
    "alpha_init=2.0\n",
    "\n",
    "\n",
    "p='huber'\n",
    "#p='Huber'\n",
    "#p='welsch'\n",
    "# np.random.seed(527)\n",
    "# N = 50\n",
    "# idx= np.random.choice(50, 20)\n",
    "# #print(y[idx])\n",
    "# x = np.random.rand(N)\n",
    "# y = np.random.rand(N)\n",
    "# y_mean=y.mean()\n",
    "# alpha_init=3.0\n",
    "print(x_init.mean())\n",
    "print(x_true.mean())"
   ]
  },
  {
   "cell_type": "code",
   "execution_count": 39,
   "metadata": {
    "scrolled": false
   },
   "outputs": [
    {
     "name": "stdout",
     "output_type": "stream",
     "text": [
      "[0.67471344] 0.5282906522634214 (array([0.59235538]), None)\n"
     ]
    }
   ],
   "source": [
    "node = LearnableRobustAverageNew(50, penalty=p, alpha=alpha_init)\n",
    "y_target=x_true.mean()\n",
    "y_init,_=node.solve(x_init,alpha_init)\n",
    "print(y_init,y_target,node.solve(x_init,0.4))\n",
    "# alpha_gd1, history1,alphas1,ys1,x_final1 = lbfgs(node, y_target,max_iters=1000,x_init=x_init,theta_init=alpha_init, train_x=train_x)\n",
    "# print(alphas1)\n",
    "alpha_gd2, history2,alphas2,ys2,x_final2 = simpleGradientDescent(node, y_target,x_init=x_init, theta_init=alpha_init,step_size=0.5, train_x=train_x)\n",
    "#print(alphas2)"
   ]
  },
  {
   "cell_type": "code",
   "execution_count": 44,
   "metadata": {},
   "outputs": [
    {
     "data": {
      "text/plain": [
       "array([0.5092755])"
      ]
     },
     "execution_count": 44,
     "metadata": {},
     "output_type": "execute_result"
    }
   ],
   "source": [
    "#print(alphas2)\n",
    "# print('x_init:', x_init)\n",
    "# print('alpha init',alpha_init)\n",
    "# print('y init', y_init)\n",
    "# print(\"\")\n",
    "# print(\"x_true\",x_init)\n",
    "# print('alpha true',alpha_true)\n",
    "# print('y true',y_target)\n",
    "# print(\"\")\n",
    "# print('x_final lfbgs:', x_final1)\n",
    "# print('x_final simple gradient:',x_final2)\n",
    "# print(\"\")\n",
    "# print('alpha final lfbgs: ', alpha_gd1)\n",
    "# print('alpha final simple gradient ',alpha_gd2)\n",
    "# print(\"\")\n",
    "# print('y final lbfg:', node.solve(x_final1, alpha_gd1)[0])\n",
    "alphas2[-1]"
   ]
  },
  {
   "cell_type": "code",
   "execution_count": null,
   "metadata": {},
   "outputs": [],
   "source": []
  },
  {
   "cell_type": "code",
   "execution_count": 14,
   "metadata": {},
   "outputs": [],
   "source": [
    "p='huber'\n",
    "np.random.seed(527)\n",
    "N = 50\n",
    "idx= np.random.choice(50, 20)\n",
    "#print(y[idx])\n",
    "x = np.random.rand(N)\n",
    "y = np.random.rand(N)\n",
    "y[idx]=y[idx]*5\n",
    "y_mean=y.mean()\n",
    "alpha_init=3.0\n"
   ]
  },
  {
   "cell_type": "code",
   "execution_count": 15,
   "metadata": {},
   "outputs": [
    {
     "name": "stdout",
     "output_type": "stream",
     "text": [
      "[3.0, array([4.])]\n",
      "[array([3.0000211]), array([3.0000422])]\n"
     ]
    }
   ],
   "source": [
    "node = LearnableRobustAverageNew(50, penalty=p, alpha=alpha_init)\n",
    "y_target=y_mean\n",
    "y_init,_=node.solve(y,alpha_init)\n",
    "alpha_gd1, history1,alphas1,ys1,x_final1 = lbfgs(node, y_target,max_iters=1000,x_init=y,theta_init=alpha_init, train_x=False)\n",
    "alpha_gd2, history2,alphas2,ys2,x_final2 = simpleGradientDescent(node, y_target,x_init=y, theta_init=alpha_init,step_size=0.5, train_x=False)\n",
    "print(alphas1)\n",
    "print(alphas2)"
   ]
  },
  {
   "cell_type": "code",
   "execution_count": 16,
   "metadata": {},
   "outputs": [
    {
     "data": {
      "image/png": "[encoded data removed]",
      "text/plain": [
       "<Figure size 432x288 with 1 Axes>"
      ]
     },
     "metadata": {
      "needs_background": "light"
     },
     "output_type": "display_data"
    },
    {
     "name": "stderr",
     "output_type": "stream",
     "text": [
      "/students/u6361796/.conda/envs/myconda/lib/python3.7/site-packages/numpy/core/_asarray.py:136: VisibleDeprecationWarning: Creating an ndarray from ragged nested sequences (which is a list-or-tuple of lists-or-tuples-or ndarrays with different lengths or shapes) is deprecated. If you meant to do this, you must specify 'dtype=object' when creating the ndarray\n",
      "  return array(a, dtype, copy=False, order=order, subok=True)\n"
     ]
    },
    {
     "ename": "NameError",
     "evalue": "name 'alpha_true' is not defined",
     "output_type": "error",
     "traceback": [
      "\u001b[0;31m---------------------------------------------------------------------------\u001b[0m",
      "\u001b[0;31mNameError\u001b[0m                                 Traceback (most recent call last)",
      "\u001b[0;32m<ipython-input-16-d7b7387e0c53>\u001b[0m in \u001b[0;36m<module>\u001b[0;34m\u001b[0m\n\u001b[1;32m     10\u001b[0m \u001b[0mplt\u001b[0m\u001b[0;34m.\u001b[0m\u001b[0msemilogy\u001b[0m\u001b[0;34m(\u001b[0m\u001b[0malphas1\u001b[0m\u001b[0;34m,\u001b[0m \u001b[0mlw\u001b[0m\u001b[0;34m=\u001b[0m\u001b[0;36m2\u001b[0m\u001b[0;34m)\u001b[0m\u001b[0;34m\u001b[0m\u001b[0m\n\u001b[1;32m     11\u001b[0m \u001b[0mplt\u001b[0m\u001b[0;34m.\u001b[0m\u001b[0msemilogy\u001b[0m\u001b[0;34m(\u001b[0m\u001b[0malphas2\u001b[0m\u001b[0;34m,\u001b[0m \u001b[0mlw\u001b[0m\u001b[0;34m=\u001b[0m\u001b[0;36m2\u001b[0m\u001b[0;34m)\u001b[0m\u001b[0;34m\u001b[0m\u001b[0m\n\u001b[0;32m---> 12\u001b[0;31m \u001b[0mplt\u001b[0m\u001b[0;34m.\u001b[0m\u001b[0msemilogy\u001b[0m\u001b[0;34m(\u001b[0m\u001b[0;34m[\u001b[0m\u001b[0malpha_true\u001b[0m \u001b[0;32mfor\u001b[0m \u001b[0mi\u001b[0m \u001b[0;32min\u001b[0m \u001b[0mrange\u001b[0m\u001b[0;34m(\u001b[0m\u001b[0mlen\u001b[0m\u001b[0;34m(\u001b[0m\u001b[0malphas2\u001b[0m\u001b[0;34m)\u001b[0m\u001b[0;34m)\u001b[0m\u001b[0;34m]\u001b[0m\u001b[0;34m,\u001b[0m \u001b[0mlw\u001b[0m\u001b[0;34m=\u001b[0m\u001b[0;36m2\u001b[0m\u001b[0;34m,\u001b[0m\u001b[0mlinestyle\u001b[0m\u001b[0;34m=\u001b[0m\u001b[0;34m'dashed'\u001b[0m\u001b[0;34m)\u001b[0m\u001b[0;34m\u001b[0m\u001b[0m\n\u001b[0m\u001b[1;32m     13\u001b[0m \u001b[0mplt\u001b[0m\u001b[0;34m.\u001b[0m\u001b[0mxlabel\u001b[0m\u001b[0;34m(\u001b[0m\u001b[0;34m\"iter.\"\u001b[0m\u001b[0;34m)\u001b[0m\u001b[0;34m;\u001b[0m \u001b[0mplt\u001b[0m\u001b[0;34m.\u001b[0m\u001b[0mylabel\u001b[0m\u001b[0;34m(\u001b[0m\u001b[0;34m\"r\"\u001b[0m\u001b[0;34m)\u001b[0m\u001b[0;34m\u001b[0m\u001b[0m\n\u001b[1;32m     14\u001b[0m \u001b[0mplt\u001b[0m\u001b[0;34m.\u001b[0m\u001b[0mtitle\u001b[0m\u001b[0;34m(\u001b[0m\u001b[0;34m\"Bi-level optimization on sphere projection\"\u001b[0m\u001b[0;34m)\u001b[0m\u001b[0;34m\u001b[0m\u001b[0m\n",
      "\u001b[0;32m<ipython-input-16-d7b7387e0c53>\u001b[0m in \u001b[0;36m<listcomp>\u001b[0;34m(.0)\u001b[0m\n\u001b[1;32m     10\u001b[0m \u001b[0mplt\u001b[0m\u001b[0;34m.\u001b[0m\u001b[0msemilogy\u001b[0m\u001b[0;34m(\u001b[0m\u001b[0malphas1\u001b[0m\u001b[0;34m,\u001b[0m \u001b[0mlw\u001b[0m\u001b[0;34m=\u001b[0m\u001b[0;36m2\u001b[0m\u001b[0;34m)\u001b[0m\u001b[0;34m\u001b[0m\u001b[0m\n\u001b[1;32m     11\u001b[0m \u001b[0mplt\u001b[0m\u001b[0;34m.\u001b[0m\u001b[0msemilogy\u001b[0m\u001b[0;34m(\u001b[0m\u001b[0malphas2\u001b[0m\u001b[0;34m,\u001b[0m \u001b[0mlw\u001b[0m\u001b[0;34m=\u001b[0m\u001b[0;36m2\u001b[0m\u001b[0;34m)\u001b[0m\u001b[0;34m\u001b[0m\u001b[0m\n\u001b[0;32m---> 12\u001b[0;31m \u001b[0mplt\u001b[0m\u001b[0;34m.\u001b[0m\u001b[0msemilogy\u001b[0m\u001b[0;34m(\u001b[0m\u001b[0;34m[\u001b[0m\u001b[0malpha_true\u001b[0m \u001b[0;32mfor\u001b[0m \u001b[0mi\u001b[0m \u001b[0;32min\u001b[0m \u001b[0mrange\u001b[0m\u001b[0;34m(\u001b[0m\u001b[0mlen\u001b[0m\u001b[0;34m(\u001b[0m\u001b[0malphas2\u001b[0m\u001b[0;34m)\u001b[0m\u001b[0;34m)\u001b[0m\u001b[0;34m]\u001b[0m\u001b[0;34m,\u001b[0m \u001b[0mlw\u001b[0m\u001b[0;34m=\u001b[0m\u001b[0;36m2\u001b[0m\u001b[0;34m,\u001b[0m\u001b[0mlinestyle\u001b[0m\u001b[0;34m=\u001b[0m\u001b[0;34m'dashed'\u001b[0m\u001b[0;34m)\u001b[0m\u001b[0;34m\u001b[0m\u001b[0m\n\u001b[0m\u001b[1;32m     13\u001b[0m \u001b[0mplt\u001b[0m\u001b[0;34m.\u001b[0m\u001b[0mxlabel\u001b[0m\u001b[0;34m(\u001b[0m\u001b[0;34m\"iter.\"\u001b[0m\u001b[0;34m)\u001b[0m\u001b[0;34m;\u001b[0m \u001b[0mplt\u001b[0m\u001b[0;34m.\u001b[0m\u001b[0mylabel\u001b[0m\u001b[0;34m(\u001b[0m\u001b[0;34m\"r\"\u001b[0m\u001b[0;34m)\u001b[0m\u001b[0;34m\u001b[0m\u001b[0m\n\u001b[1;32m     14\u001b[0m \u001b[0mplt\u001b[0m\u001b[0;34m.\u001b[0m\u001b[0mtitle\u001b[0m\u001b[0;34m(\u001b[0m\u001b[0;34m\"Bi-level optimization on sphere projection\"\u001b[0m\u001b[0;34m)\u001b[0m\u001b[0;34m\u001b[0m\u001b[0m\n",
      "\u001b[0;31mNameError\u001b[0m: name 'alpha_true' is not defined"
     ]
    },
    {
     "data": {
      "image/png": "[encoded data removed]",
      "text/plain": [
       "<Figure size 432x288 with 1 Axes>"
      ]
     },
     "metadata": {
      "needs_background": "light"
     },
     "output_type": "display_data"
    }
   ],
   "source": [
    "\n",
    "plt.figure()\n",
    "plt.semilogy(history1, lw=2)\n",
    "plt.semilogy(history2, lw=2)\n",
    "plt.xlabel(\"iter.\"); plt.ylabel(\"sum of squared error\")\n",
    "plt.title(\"Bi-level optimization on sphere projection\")\n",
    "plt.legend([\"LBFGS ({} iterations)\".format(len(history1)),\"GD ({} iterations)\".format(len(history2))])\n",
    "plt.show()\n",
    "\n",
    "plt.figure()\n",
    "plt.semilogy(alphas1, lw=2)\n",
    "plt.semilogy(alphas2, lw=2)\n",
    "plt.semilogy([alpha_true for i in range(len(alphas2))], lw=2,linestyle='dashed')\n",
    "plt.xlabel(\"iter.\"); plt.ylabel(\"r\")\n",
    "plt.title(\"Bi-level optimization on sphere projection\")\n",
    "plt.legend([\"LBFGS ({} iterations)\".format(len(history1)),\"GD ({} iterations)\".format(len(history2)),'true r'])\n",
    "plt.show()"
   ]
  },
  {
   "cell_type": "markdown",
   "metadata": {},
   "source": [
    "#### On ball projection:\n",
    "\n",
    "Similarly, We can do bi-level optimisation learning for ball projection"
   ]
  },
  {
   "cell_type": "code",
   "execution_count": null,
   "metadata": {},
   "outputs": [],
   "source": []
  },
  {
   "cell_type": "code",
   "execution_count": null,
   "metadata": {},
   "outputs": [],
   "source": [
    "# node = L1Sphere()\n",
    "node = LInfSphere()\n",
    "# node = L1Ball()\n",
    "\n",
    "x_init = torch.as_tensor(np.random.rand(10))\n",
    "r_init=torch.as_tensor(random.uniform(15, 20))\n",
    "y_init,_ = node.project(x_init,r_init)\n",
    "\n",
    "if train_x:\n",
    "    x_true = torch.as_tensor(np.random.rand(10))\n",
    "else:\n",
    "    x_true = x_init.clone()\n",
    "r_true=torch.as_tensor(random.uniform(1, 5))\n",
    "y_target,_ = node.project(x_true,r_true)\n",
    "\n",
    "train_x=False"
   ]
  },
  {
   "cell_type": "code",
   "execution_count": null,
   "metadata": {},
   "outputs": [],
   "source": [
    "\n",
    "r_gd1, history1,rs1,ys1,x_final1 = lbfgs(node, y_target,max_iters=1000,x_init=x_init,theta_init=r_init,train_x=train_x)\n",
    "r_gd2, history2,rs2,ys2,x_final2 = simpleGradientDescent(node, y_target,max_iters=1000,x_init=x_init,theta_init=r_init,step_size=0.5,train_x=train_x)"
   ]
  },
  {
   "cell_type": "code",
   "execution_count": null,
   "metadata": {},
   "outputs": [],
   "source": [
    "print('x init:', x_init)\n",
    "print('r init:',r_init)\n",
    "print('y init:',y_init)\n",
    "print(\"\")\n",
    "print('x true:',x_true)\n",
    "print('r true:',r_true)\n",
    "print('y true:',y_target)\n",
    "print()\n",
    "print('x final lbfg: ',x_final1)\n",
    "print('x final simple gradient: ',x_final2)\n",
    "print()\n",
    "print('r final lbfg: ',r_gd1)\n",
    "print('r final simple gradient: ',r_gd2)\n",
    "print()\n",
    "print('y final lbfg:',node.project(x_final1, r_gd1)[0])\n",
    "print('y final simple gradient:',node.project(x_final2, r_gd2)[0])"
   ]
  },
  {
   "cell_type": "code",
   "execution_count": null,
   "metadata": {},
   "outputs": [],
   "source": [
    "plt.figure()\n",
    "plt.semilogy(history1, lw=2)\n",
    "plt.semilogy(history2, lw=2)\n",
    "plt.xlabel(\"iter.\"); plt.ylabel(\"sum of squared error\")\n",
    "plt.title(\"Bi-level optimization on sphere projection\")\n",
    "plt.legend([\"LBFGS ({} iterations)\".format(len(history1)),\"GD ({} iterations)\".format(len(history2))])\n",
    "plt.show()\n",
    "\n",
    "plt.figure()\n",
    "plt.semilogy(rs1, lw=2)\n",
    "plt.semilogy(rs2, lw=2)\n",
    "plt.semilogy([r_true for i in range(len(rs2))], lw=2,linestyle='dashed')\n",
    "plt.xlabel(\"iter.\"); plt.ylabel(\"r\")\n",
    "plt.title(\"Bi-level optimization on sphere projection\")\n",
    "plt.legend([\"LBFGS ({} iterations)\".format(len(history1)),\"GD ({} iterations)\".format(len(history2)),'true r'])\n",
    "plt.show()"
   ]
  }
 ],
 "metadata": {
  "kernelspec": {
   "display_name": "Python 3",
   "language": "python",
   "name": "python3"
  },
  "language_info": {
   "codemirror_mode": {
    "name": "ipython",
    "version": 3
   },
   "file_extension": ".py",
   "mimetype": "text/x-python",
   "name": "python",
   "nbconvert_exporter": "python",
   "pygments_lexer": "ipython3",
   "version": "3.7.0"
  }
 },
 "nbformat": 4,
 "nbformat_minor": 4
}

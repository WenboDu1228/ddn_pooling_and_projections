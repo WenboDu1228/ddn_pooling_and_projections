{
 "cells": [
  {
   "cell_type": "code",
   "execution_count": 1,
   "metadata": {},
   "outputs": [],
   "source": [
    "import numpy as np\n",
    "import torch \n",
    "import matplotlib.pyplot as plt\n",
    "import robust_loss_pytorch.general\n",
    "\n",
    "# Construct some regression data with some extreme outliers.\n",
    "np.random.seed(1)\n",
    "n = 50\n",
    "scale_true = 0.7\n",
    "shift_true = 0.15\n",
    "x = np.random.uniform(size=n)\n",
    "y = scale_true * x + shift_true\n",
    "y += np.random.normal(scale=0.025, size=n)\n",
    "flip_mask1 = np.random.uniform(size=n) > 0.9\n",
    "flip_mask2 = np.random.uniform(size=n) <0.1\n",
    "y = np.where(flip_mask1, 1*np.random.uniform(size=n), y)\n",
    "y = np.where(flip_mask2, -1*np.random.uniform(size=n), y)\n",
    "\n",
    "x = torch.Tensor(x)\n",
    "y = torch.Tensor(y)\n",
    "\n",
    "\n",
    "class RegressionModel(torch.nn.Module): \n",
    "    # A simple linear regression module.\n",
    "    def __init__(self): \n",
    "        super(RegressionModel, self).__init__() \n",
    "        self.linear = torch.nn.Linear(1, 1)\n",
    "    def forward(self, x): \n",
    "        return self.linear(x[:,None])[:,0]\n",
    "\n",
    "def plot_regression(regression):\n",
    "    # A helper function for plotting a regression module.\n",
    "    x_plot = np.linspace(0, 1, 100)\n",
    "    y_plot = regression(torch.Tensor(x_plot)).detach().numpy()\n",
    "    y_plot_true = x_plot * scale_true + shift_true\n",
    "\n",
    "    plt.figure(0, figsize=(4,4))\n",
    "    plt.scatter(x, y)\n",
    "    plt.plot(x_plot, y_plot_true, color='k')\n",
    "    plt.plot(x_plot, y_plot, color='r')\n",
    "    plt.legend(['true','learned'],loc='upper left')\n",
    "    "
   ]
  },
  {
   "cell_type": "code",
   "execution_count": 2,
   "metadata": {},
   "outputs": [
    {
     "name": "stdout",
     "output_type": "stream",
     "text": [
      "0   : loss=59.279018\n",
      "100 : loss=7.002073\n",
      "200 : loss=6.710061\n",
      "300 : loss=6.625587\n",
      "400 : loss=6.584109\n",
      "500 : loss=6.567844\n",
      "600 : loss=6.562624\n",
      "700 : loss=6.561238\n",
      "800 : loss=6.560933\n",
      "900 : loss=6.560876\n",
      "1000: loss=6.560868\n",
      "1100: loss=6.560867\n",
      "1200: loss=6.560867\n",
      "1300: loss=6.560867\n",
      "1400: loss=6.560867\n",
      "1500: loss=6.560867\n",
      "1600: loss=6.560867\n",
      "1700: loss=6.560867\n",
      "1800: loss=6.560867\n",
      "1900: loss=6.560867\n"
     ]
    },
    {
     "data": {
      "image/png": "[encoded data removed]",
      "text/plain": [
       "<Figure size 288x288 with 1 Axes>"
      ]
     },
     "metadata": {
      "needs_background": "light"
     },
     "output_type": "display_data"
    }
   ],
   "source": [
    "# Fit a linear regression using mean squared error.\n",
    "regression = RegressionModel() \n",
    "params = regression.parameters()\n",
    "optimizer = torch.optim.Adam(params, lr = 0.01) \n",
    "loss_MSE=[]\n",
    "for epoch in range(2000): \n",
    "\n",
    "    y_i = regression(x) \n",
    "    \n",
    "    # Hijacking the general loss to compute MSE.\n",
    "    loss = torch.mean(robust_loss_pytorch.general.lossfun(\n",
    "        y_i - y, alpha=torch.Tensor([2.]), scale=torch.Tensor([0.1])))\n",
    "\n",
    "    optimizer.zero_grad() \n",
    "    loss.backward() \n",
    "    loss_MSE.append(loss)\n",
    "    optimizer.step() \n",
    "    if np.mod(epoch, 100) == 0:\n",
    "        print('{:<4}: loss={:03f}'.format(epoch, loss.data)) \n",
    "\n",
    "# It doesn't fit well.\n",
    "plot_regression(regression)"
   ]
  },
  {
   "cell_type": "code",
   "execution_count": 3,
   "metadata": {},
   "outputs": [
    {
     "name": "stdout",
     "output_type": "stream",
     "text": [
      "[Parameter containing:\n",
      "tensor([[0.3952]], requires_grad=True), Parameter containing:\n",
      "tensor([0.1853], requires_grad=True)]\n"
     ]
    }
   ],
   "source": [
    "print(list(regression.parameters()))"
   ]
  },
  {
   "cell_type": "code",
   "execution_count": 4,
   "metadata": {},
   "outputs": [
    {
     "name": "stdout",
     "output_type": "stream",
     "text": [
      "0   : loss=1.589712  alpha=1.004995  scale=1.000000\n",
      "100 : loss=1.165743  alpha=1.466841  scale=1.000000\n",
      "200 : loss=1.096782  alpha=1.735328  scale=1.000000\n",
      "300 : loss=1.055941  alpha=1.860607  scale=1.000000\n",
      "400 : loss=1.032797  alpha=1.919206  scale=1.000000\n",
      "500 : loss=1.019173  alpha=1.948853  scale=1.000000\n",
      "600 : loss=1.010606  alpha=1.965231  scale=1.000000\n",
      "700 : loss=1.004896  alpha=1.975001  scale=1.000000\n",
      "800 : loss=1.000914  alpha=1.981209  scale=1.000000\n",
      "900 : loss=0.998038  alpha=1.985363  scale=1.000000\n",
      "1000: loss=0.995898  alpha=1.988261  scale=1.000000\n",
      "1100: loss=0.994265  alpha=1.990355  scale=1.000000\n",
      "1200: loss=0.992992  alpha=1.991912  scale=1.000000\n",
      "1300: loss=0.991982  alpha=1.993099  scale=1.000000\n",
      "1400: loss=0.991167  alpha=1.994022  scale=1.000000\n",
      "1500: loss=0.990502  alpha=1.994753  scale=1.000000\n",
      "1600: loss=0.989950  alpha=1.995342  scale=1.000000\n",
      "1700: loss=0.989490  alpha=1.995822  scale=1.000000\n",
      "1800: loss=0.989101  alpha=1.996219  scale=1.000000\n",
      "1900: loss=0.988769  alpha=1.996549  scale=1.000000\n",
      "[Parameter containing:\n",
      "tensor([[0.3962]], requires_grad=True), Parameter containing:\n",
      "tensor([0.1852], requires_grad=True)]\n"
     ]
    },
    {
     "data": {
      "image/png": "[encoded data removed]",
      "text/plain": [
       "<Figure size 288x288 with 1 Axes>"
      ]
     },
     "metadata": {
      "needs_background": "light"
     },
     "output_type": "display_data"
    }
   ],
   "source": [
    "# Fit a linear regression, and the parameters of an adaptive loss with adaptive alpha.\n",
    "regression = RegressionModel() \n",
    "adaptive = robust_loss_pytorch.adaptive.AdaptiveLossFunction(\n",
    "    num_dims = 1, float_dtype=np.float32, device='cpu',scale_lo=1.0,alpha_hi=1.999,alpha_init=1.0,alpha_lo=0.001)\n",
    "params = list(regression.parameters()) + list(adaptive.parameters())\n",
    "optimizer = torch.optim.Adam(params, lr = 0.01) \n",
    "loss_alpha=[]\n",
    "for epoch in range(2000): \n",
    "\n",
    "    y_i = regression(x) \n",
    "    \n",
    "    # Stealthily unsqueeze to an (n,1) matrix, and then compute the loss.\n",
    "    # A matrix with this shape corresponds to a loss where there's one shape+scale parameter\n",
    "    # per dimension (and there's only one dimension for this data).\n",
    "    loss = torch.mean(adaptive.lossfun((y_i - y)[:,None]))\n",
    "\n",
    "    optimizer.zero_grad() \n",
    "    loss.backward() \n",
    "    optimizer.step() \n",
    "    loss_alpha.append(loss)\n",
    "    if np.mod(epoch, 100) == 0:\n",
    "        # You can see the alpha+scale parameters moving around.\n",
    "        print('{:<4}: loss={:03f}  alpha={:03f}  scale={:03f}'.format(\n",
    "            epoch, loss.data, adaptive.alpha()[0,0].data, adaptive.scale()[0,0].data)) \n",
    "\n",
    "# It fits!\n",
    "plot_regression(regression)\n",
    "# alpha only work if scale is correctly learned\n",
    "print(list(regression.parameters()))"
   ]
  },
  {
   "cell_type": "code",
   "execution_count": 5,
   "metadata": {},
   "outputs": [
    {
     "name": "stdout",
     "output_type": "stream",
     "text": [
      "0   : loss=1.392323  alpha=1.000000  scale=0.993690\n",
      "100 : loss=0.659356  alpha=1.000000  scale=0.470275\n",
      "200 : loss=0.229627  alpha=1.000000  scale=0.222498\n",
      "300 : loss=0.176585  alpha=1.000000  scale=0.164762\n",
      "400 : loss=0.176160  alpha=1.000000  scale=0.160376\n",
      "500 : loss=0.176159  alpha=1.000000  scale=0.160298\n",
      "600 : loss=0.176159  alpha=1.000000  scale=0.160298\n",
      "700 : loss=0.176159  alpha=1.000000  scale=0.160298\n",
      "800 : loss=0.176159  alpha=1.000000  scale=0.160298\n",
      "900 : loss=0.176159  alpha=1.000000  scale=0.160298\n",
      "1000: loss=0.176159  alpha=1.000000  scale=0.160298\n",
      "1100: loss=0.176159  alpha=1.000000  scale=0.160298\n",
      "1200: loss=0.176159  alpha=1.000000  scale=0.160298\n",
      "1300: loss=0.176159  alpha=1.000000  scale=0.160298\n",
      "1400: loss=0.176159  alpha=1.000000  scale=0.160298\n",
      "1500: loss=0.176159  alpha=1.000000  scale=0.160298\n",
      "1600: loss=0.176159  alpha=1.000000  scale=0.160298\n",
      "1700: loss=0.176159  alpha=1.000000  scale=0.160298\n",
      "1800: loss=0.176159  alpha=1.000000  scale=0.160298\n",
      "1900: loss=0.176159  alpha=1.000000  scale=0.160298\n",
      "[Parameter containing:\n",
      "tensor([[0.6353]], requires_grad=True), Parameter containing:\n",
      "tensor([0.1615], requires_grad=True)]\n"
     ]
    },
    {
     "data": {
      "image/png": "[encoded data removed]",
      "text/plain": [
       "<Figure size 288x288 with 1 Axes>"
      ]
     },
     "metadata": {
      "needs_background": "light"
     },
     "output_type": "display_data"
    }
   ],
   "source": [
    "# Fit a linear regression, and the parameters of an adaptive loss with adaptive scale.\n",
    "regression = RegressionModel() \n",
    "adaptive = robust_loss_pytorch.adaptive.AdaptiveLossFunction(\n",
    "    num_dims = 1, float_dtype=np.float32, device='cpu',alpha_hi=1.0,alpha_lo=1.0)\n",
    "params = list(regression.parameters()) + list(adaptive.parameters())\n",
    "optimizer = torch.optim.Adam(params, lr = 0.01) \n",
    "loss_scale=[]\n",
    "for epoch in range(2000): \n",
    "\n",
    "    y_i = regression(x) \n",
    "    \n",
    "    loss = torch.mean(adaptive.lossfun((y_i - y)[:,None]))\n",
    "\n",
    "    optimizer.zero_grad() \n",
    "    loss.backward() \n",
    "    optimizer.step() \n",
    "    loss_scale.append(loss)\n",
    "    if np.mod(epoch, 100) == 0:\n",
    "        # You can see the alpha+scale parameters moving around.\n",
    "        print('{:<4}: loss={:03f}  alpha={:03f}  scale={:03f}'.format(\n",
    "            epoch, loss.data, adaptive.alpha()[0,0].data, adaptive.scale()[0,0].data)) \n",
    "\n",
    "# It fits!\n",
    "\n",
    "plot_regression(regression)\n",
    "print(list(regression.parameters()))"
   ]
  },
  {
   "cell_type": "code",
   "execution_count": 6,
   "metadata": {},
   "outputs": [
    {
     "name": "stdout",
     "output_type": "stream",
     "text": [
      "0   : loss=1.652180  alpha=1.004995  scale=0.993690\n",
      "100 : loss=0.597411  alpha=1.434313  scale=0.423810\n",
      "200 : loss=0.281109  alpha=1.325829  scale=0.238186\n",
      "300 : loss=0.071962  alpha=0.687807  scale=0.143869\n",
      "400 : loss=-0.334337  alpha=0.224298  scale=0.056797\n",
      "500 : loss=-0.616457  alpha=0.078488  scale=0.025207\n",
      "600 : loss=-0.683239  alpha=0.039245  scale=0.018714\n",
      "700 : loss=-0.701929  alpha=0.025147  scale=0.017271\n",
      "800 : loss=-0.710409  alpha=0.018291  scale=0.016777\n",
      "900 : loss=-0.715250  alpha=0.014267  scale=0.016537\n",
      "1000: loss=-0.718377  alpha=0.011625  scale=0.016379\n",
      "1100: loss=-0.720514  alpha=0.009762  scale=0.016289\n",
      "1200: loss=-0.722157  alpha=0.008382  scale=0.016205\n",
      "1300: loss=-0.721042  alpha=0.007321  scale=0.016152\n",
      "1400: loss=-0.724338  alpha=0.006483  scale=0.016107\n",
      "1500: loss=-0.725113  alpha=0.005805  scale=0.016074\n",
      "1600: loss=-0.725744  alpha=0.005248  scale=0.016047\n",
      "1700: loss=-0.726271  alpha=0.004783  scale=0.016023\n",
      "1800: loss=-0.726687  alpha=0.004390  scale=0.016012\n",
      "1900: loss=-0.727093  alpha=0.004054  scale=0.015988\n",
      "[Parameter containing:\n",
      "tensor([[0.7097]], requires_grad=True), Parameter containing:\n",
      "tensor([0.1515], requires_grad=True)]\n"
     ]
    },
    {
     "data": {
      "image/png": "[encoded data removed]",
      "text/plain": [
       "<Figure size 288x288 with 1 Axes>"
      ]
     },
     "metadata": {
      "needs_background": "light"
     },
     "output_type": "display_data"
    }
   ],
   "source": [
    "# Fit a linear regression, and the parameters of an adaptive loss with adaptive alpha and scale.\n",
    "regression = RegressionModel() \n",
    "adaptive = robust_loss_pytorch.adaptive.AdaptiveLossFunction(\n",
    "    num_dims = 1, float_dtype=np.float32, device='cpu')\n",
    "params = list(regression.parameters()) + list(adaptive.parameters())\n",
    "optimizer = torch.optim.Adam(params, lr = 0.01) \n",
    "loss_adaptive=[]\n",
    "for epoch in range(2000): \n",
    "\n",
    "    y_i = regression(x) \n",
    "    \n",
    "\n",
    "    loss = torch.mean(adaptive.lossfun((y_i - y)[:,None]))\n",
    "\n",
    "    optimizer.zero_grad() \n",
    "    loss.backward() \n",
    "    optimizer.step() \n",
    "    loss_adaptive.append(loss)\n",
    "    if np.mod(epoch, 100) == 0:\n",
    "        # You can see the alpha+scale parameters moving around.\n",
    "        print('{:<4}: loss={:03f}  alpha={:03f}  scale={:03f}'.format(\n",
    "            epoch, loss.data, adaptive.alpha()[0,0].data, adaptive.scale()[0,0].data)) \n",
    "\n",
    "# It fits!\n",
    "plot_regression(regression)\n",
    "print(list(regression.parameters()))"
   ]
  },
  {
   "cell_type": "code",
   "execution_count": null,
   "metadata": {},
   "outputs": [],
   "source": []
  }
 ],
 "metadata": {
  "kernelspec": {
   "display_name": "Python 3",
   "language": "python",
   "name": "python3"
  },
  "language_info": {
   "codemirror_mode": {
    "name": "ipython",
    "version": 3
   },
   "file_extension": ".py",
   "mimetype": "text/x-python",
   "name": "python",
   "nbconvert_exporter": "python",
   "pygments_lexer": "ipython3",
   "version": "3.7.0"
  }
 },
 "nbformat": 4,
 "nbformat_minor": 2
}

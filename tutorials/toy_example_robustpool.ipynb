{
 "cells": [
  {
   "cell_type": "code",
   "execution_count": 1,
   "id": "institutional-circulation",
   "metadata": {},
   "outputs": [],
   "source": [
    "import matplotlib.pyplot as plt\n",
    "import autograd.numpy as np\n",
    "import scipy.optimize as opt\n",
    "import scipy as sci\n",
    "import random\n",
    "import matplotlib.pyplot as plt\n",
    "from autograd import grad, jacobian\n",
    "import sys\n",
    "import torch\n",
    "sys.path.append(\"../\")\n",
    "from ddn.basic.learnable_robust_nodes import LearnableRobustAverage\n",
    "from ddn.basic.learnable_robust_nodes_new import LearnableRobustAverageNew\n",
    "from ddn.basic.robust_nodes import RobustAverage"
   ]
  },
  {
   "cell_type": "code",
   "execution_count": 2,
   "id": "assigned-infrastructure",
   "metadata": {},
   "outputs": [],
   "source": [
    "def f(x, y, alpha,p='pseudo-huber'):\n",
    "    alpha_sq=alpha**2\n",
    "    if p=='pseudo-huber':\n",
    "        phi= lambda z: (alpha**2) * (np.sqrt(1.0 + np.power(z, 2.0) / (alpha**2)) - 1.0)\n",
    "    elif p=='huber':\n",
    "        phi = lambda z: np.where(np.abs(z) <= alpha, 0.5 * np.power(z, 2.0), alpha * np.abs(z) - 0.5 * alpha_sq)\n",
    "    elif p=='welsch':\n",
    "        phi = lambda z: 1.0 - np.exp(-0.5 * np.power(z, 2.0) / alpha_sq)\n",
    "    elif p=='trunc-quad':\n",
    "        phi = lambda z: np.minimum(0.5 * np.power(z, 2.0), 0.5 * alpha_sq)\n",
    "    return np.sum([phi(y - xi) for xi in x])\n",
    "\n",
    "# the solve objective function from ddn.basic.node\n",
    "def solve(x,alpha ,f, p='pseudo-huber'):\n",
    "    result = opt.minimize(lambda y : f(x, y, alpha,p), np.mean(x))\n",
    "    return result.x\n",
    "def dyalpha_closed_form(x,y,alpha,p='pseudo-huber'):\n",
    "    alpha_sq=alpha**2\n",
    "    if p=='pseudo-huber':\n",
    "        dyy = np.array([np.power(1.0 + np.power(y - xi, 2.0) / alpha_sq, -1.5) for xi in x])\n",
    "        dytheta =  np.sum([np.power(y-xi,3)/(np.power(np.power((y-xi)/alpha,2)+1,1.5)*np.power(alpha,3)) for xi in x])\n",
    "    elif p=='huber':\n",
    "        dyy = np.array([1.0 if np.abs(y - xi) <= alpha else 0.0 for xi in x])\n",
    "        dytheta = np.sum(np.array([0.0 if np.abs(y - xi) <= alpha else (1.0 if y-xi>0 else -1.0) for xi in x]))\n",
    "    elif p=='welsch':\n",
    "        z = np.power(x - y, 2.0)\n",
    "        dyy = np.array([(alpha_sq - zi) / (alpha_sq * alpha_sq) * np.exp(-0.5 * zi / alpha_sq) for zi in z])\n",
    "        dytheta=np.sum(np.array([-np.exp(-0.5 * np.power((y - xi)/alpha,2))*((2*(y-xi)*alpha_sq-np.power(y-xi,3))/(alpha**5)) for xi in x])) \n",
    "    elif p=='trunc-quad':\n",
    "        return 0\n",
    "    return -1.0 * dytheta/np.sum(dyy)"
   ]
  },
  {
   "cell_type": "code",
   "execution_count": 3,
   "id": "antique-watch",
   "metadata": {},
   "outputs": [],
   "source": [
    "def lbfgs(node, y_target, max_iters=1000,x_init=None, theta_init=None, verbose=True, train_x=False):\n",
    "    \"\"\"\n",
    "    Example of using scipy.optimize to solve the problem via L-BFGS.\n",
    "    \"\"\"\n",
    "    theta_start = theta_init if theta_init is not None else 1.0\n",
    "    x_start = (x_init.clone() if type(x_init)==torch.Tensor else x_init.copy()) if x_init is not None else 1.0\n",
    "    if train_x:\n",
    "        para= torch.cat((x_start,torch.tensor([theta_start]))) if type(x_start)==torch.tensor else np.concatenate((x_start, np.array([theta_start])), axis=0)\n",
    "    else:\n",
    "        para= theta_start\n",
    "    def J(para):\n",
    "        if train_x:\n",
    "            x= para[:-1]\n",
    "            theta=para[-1]\n",
    "        else:\n",
    "            x=x_init\n",
    "            theta=para\n",
    "        if type(node)==LearnableRobustAverageNew:\n",
    "            y, _ = node.solve(x, theta)\n",
    "            return 0.5 * np.sum(np.square(y - y_target))\n",
    "        else:\n",
    "            x=torch.tensor(x)\n",
    "            theta=torch.tensor(theta)\n",
    "            y, _ = node.project(x, theta)\n",
    "            return  0.5 * ((y - y_target)**2).sum()\n",
    "    def dJdtheta(para):\n",
    "        if train_x:\n",
    "            x= para[:-1]\n",
    "            theta=para[-1]\n",
    "        else:\n",
    "            x=x_init\n",
    "            theta=para\n",
    "        if type(node)==LearnableRobustAverageNew:\n",
    "            y, _ = node.solve(x, theta)\n",
    "            dx,dr= node.gradient(x, y, theta)\n",
    "            DJdx=np.dot(y - y_target,dx).reshape((node.dim_x,))\n",
    "            DJdr=(y - y_target)*dr\n",
    "            if train_x:\n",
    "                return np.concatenate((DJdx,DJdr),axis=0)\n",
    "            else:\n",
    "                return DJdr\n",
    "        else:\n",
    "            x=torch.tensor(x)\n",
    "            theta=torch.tensor(theta)\n",
    "            y, is_outside = node.project(x, theta)\n",
    "            DJdx, DJdtheta = node.gradient((y - y_target),x, y,is_outside)\n",
    "            if train_x:\n",
    "                return torch.cat((DJdx,torch.tensor([DJdtheta])))\n",
    "            else:\n",
    "                return torch.tensor([DJdtheta])\n",
    "    history = [J(para)]\n",
    "    thetas=[theta_start]\n",
    "    if type(node)==LearnableRobustAverageNew:\n",
    "        ys=[node.solve(x_start, theta_start)]\n",
    "    else:\n",
    "        ys=[node.project(x_start, theta_start)]\n",
    "    def callback(para):\n",
    "        if train_x:\n",
    "            x= para[:-1]\n",
    "            theta=para[-1]\n",
    "        else:\n",
    "            x=x_init\n",
    "            theta=para\n",
    "        thetas.append(theta)\n",
    "        history.append(J(para))\n",
    "        if type(node)==LearnableRobustAverageNew:\n",
    "            ys.append(node.solve(x, theta))\n",
    "        else:\n",
    "            x=torch.tensor(x)\n",
    "            theta=torch.tensor(theta)\n",
    "            ys.append(node.project(x, theta))\n",
    "    opts = {'maxiter': max_iters, 'disp': verbose}\n",
    "    result = opt.minimize(J, para, args=(), method='L-BFGS-B', jac=dJdtheta, options=opts, callback=callback)\n",
    "    if train_x:\n",
    "        x_final= result.x[:-1]\n",
    "        theta_final= result.x[-1]\n",
    "        if type(node)!=LearnableRobustAverageNew:\n",
    "            x_final=torch.tensor(x_final)\n",
    "            theta_final=torch.tensor([theta_final])\n",
    "    else:\n",
    "        x_final =x_init\n",
    "        theta_final= result.x\n",
    "    return theta_final, history,thetas,ys,x_final\n",
    "\n",
    "\n",
    "def simpleGradientDescent(node, y_target, step_size=1.0e-3, tol=1.0e-7, max_iters=10000,x_init = None, theta_init=None, verbose=False,train_x=False):\n",
    "    theta = theta_init if theta_init is not None else 0\n",
    "    if type(node)==LearnableRobustAverageNew:\n",
    "        x = x_init.copy()\n",
    "        J = lambda y : 0.5 * np.sum(np.square(y - y_target))\n",
    "    else:\n",
    "        x = x_init.clone()\n",
    "        J = lambda y : 0.5 * ((y - y_target)**2).sum()\n",
    "    dJdy = lambda y : y - y_target\n",
    "    history = []\n",
    "    thetas=[]\n",
    "    ys=[]\n",
    "    for i in range(max_iters):\n",
    "        # solve the lower-level problem and compute the upper-level objective\n",
    "        if type(node)==LearnableRobustAverageNew:\n",
    "            y, _ = node.solve(x,theta)\n",
    "        else:\n",
    "            y, is_outside = node.project(x,theta)\n",
    "        history.append(J(y))\n",
    "        if verbose: print(\"{:5d}: {}\".format(i, history[-1]))\n",
    "        if (len(history) > 2) and (history[-2] - history[-1]) < tol:\n",
    "            break\n",
    "        # compute the gradient of the upper-level objective with respect to x via the chain rule\n",
    "        if type(node)==LearnableRobustAverageNew:\n",
    "            dydx,dydtheta= node.gradient(x, y,theta)\n",
    "            dJdx = np.dot(dJdy(y), dydx)\n",
    "            dJdtheta = np.dot(dJdy(y), dydtheta)\n",
    "        else:\n",
    "            dJdx,dJdtheta = node.gradient(dJdy(y),x,y,is_outside)\n",
    "        # take a step in the negative gradient direction\n",
    "        theta -= step_size * dJdtheta\n",
    "        if train_x:\n",
    "            x -= step_size * dJdx\n",
    "        if type(node)==LearnableRobustAverageNew:\n",
    "            thetas.append(theta.copy())\n",
    "        else:\n",
    "            thetas.append(theta.clone())\n",
    "        ys.append(y)\n",
    "    return theta, history,thetas,ys,x"
   ]
  },
  {
   "cell_type": "code",
   "execution_count": 4,
   "id": "organizational-hunger",
   "metadata": {},
   "outputs": [],
   "source": [
    "np.random.seed(1123)\n",
    "x_init=np.random.rand(50)\n",
    "idx= np.random.choice(50, 10)\n",
    "x_true=x_init.copy()\n",
    "x_init[idx] += x_init[idx]*10\n",
    "alpha_init=np.random.randint(5,10)\n",
    "p='huber'"
   ]
  },
  {
   "cell_type": "code",
   "execution_count": 5,
   "id": "agreed-lightweight",
   "metadata": {},
   "outputs": [],
   "source": [
    "# node = LearnableRobustAverageNew(50, penalty=p, alpha=alpha_init)\n",
    "# y_target=x_true.mean()\n",
    "# y_init,_=node.solve(x_init,alpha_init)\n",
    "# print(y_init,y_target,node.solve(x_init,0.4))\n",
    "# # alpha_gd1, history1,alphas1,ys1,x_final1 = lbfgs(node, y_target,max_iters=1000,x_init=x_init,theta_init=alpha_init, train_x=train_x)\n",
    "# # print(alphas1)\n",
    "# alpha_gd2, history2,alphas2,ys2,x_final2 = simpleGradientDescent(node, y_target,x_init=x_init, theta_init=alpha_init,step_size=0.25, train_x=False)\n",
    "# #print(alphas2)"
   ]
  },
  {
   "cell_type": "code",
   "execution_count": 6,
   "id": "gentle-removal",
   "metadata": {},
   "outputs": [],
   "source": [
    "# plt.plot(alphas2)\n",
    "# y_final,_=node.solve(x_init,alphas2[-1])\n",
    "# print(y_final,y_target,x_init.mean())\n",
    "# print(alpha_init,alphas2[-1])"
   ]
  },
  {
   "cell_type": "code",
   "execution_count": 7,
   "id": "confidential-tsunami",
   "metadata": {},
   "outputs": [
    {
     "data": {
      "text/plain": [
       "([], [])"
      ]
     },
     "execution_count": 7,
     "metadata": {},
     "output_type": "execute_result"
    },
    {
     "data": {
      "image/png": "[encoded data removed]",
      "text/plain": [
       "<Figure size 432x576 with 1 Axes>"
      ]
     },
     "metadata": {
      "needs_background": "light"
     },
     "output_type": "display_data"
    }
   ],
   "source": [
    "np.random.seed(527)\n",
    "N = 50\n",
    "#idx= np.random.choice(50, 10)\n",
    "colors=np.array(['black' for i in range(50)])\n",
    "#print(y[idx])\n",
    "x = np.random.rand(N)\n",
    "y = np.random.rand(N)\n",
    "y_mean=y.mean()\n",
    "#print(y)\n",
    "#y[idx]=y[idx]*5\n",
    "#print(y)\n",
    "plt.figure(figsize=(6,8))\n",
    "plt.subplot(111)\n",
    "plt.title('data')\n",
    "plt.scatter(x, y,c=colors)\n",
    "#plt.axhline(y=1.0, color='black', linestyle=':',label='bound')\n",
    "plt.axhline(y=y_mean, color='green', linestyle='-',label='mean')\n",
    "#plt.axhline(y=0.0, color='black', linestyle=':')\n",
    "plt.legend()\n",
    "plt.yticks([-0.5, 0.0, 1.0, 2.0])\n",
    "plt.xticks([])"
   ]
  },
  {
   "cell_type": "code",
   "execution_count": 8,
   "id": "architectural-sussex",
   "metadata": {},
   "outputs": [
    {
     "name": "stdout",
     "output_type": "stream",
     "text": [
      "1.2542456370413413 2.2288782581214432\n"
     ]
    },
    {
     "data": {
      "text/plain": [
       "([], [])"
      ]
     },
     "execution_count": 8,
     "metadata": {},
     "output_type": "execute_result"
    },
    {
     "data": {
      "image/png": "[encoded data removed]",
      "text/plain": [
       "<Figure size 432x576 with 1 Axes>"
      ]
     },
     "metadata": {
      "needs_background": "light"
     },
     "output_type": "display_data"
    }
   ],
   "source": [
    "np.random.seed(527)\n",
    "N = 50\n",
    "idx= np.random.choice(50, 20)\n",
    "#print(y[idx])\n",
    "colors=np.array(['black' for i in range(50)])\n",
    "x = np.random.rand(N)\n",
    "y_init = np.random.rand(N)\n",
    "y=y_init.copy()\n",
    "y[idx]=y[idx]*4+1\n",
    "colors[idx]='r'\n",
    "y_mean=y.mean()\n",
    "alpha_init=np.random.rand()*3+2\n",
    "print(y_mean,alpha_init)\n",
    "#print(y)\n",
    "plt.figure(figsize=(6,8))\n",
    "plt.figure(1)\n",
    "plt.subplot(111)\n",
    "plt.title('data with outliers 1(PH)')\n",
    "plt.scatter(x, y,c=colors)\n",
    "#plt.axhline(y=1.0, color='black', linestyle=':',label='bound')\n",
    "plt.axhline(y=y_mean, color='b', linestyle='-',label='robust mean(PH)')\n",
    "plt.axhline(y=y_init.mean(), color='green', linestyle='-',label='mean(no outliers)')\n",
    "plt.axhline(y=alpha_init, color='cyan', linestyle='--',label='threshold(c)')\n",
    "#plt.axhline(y=0.0, color='black', linestyle=':')\n",
    "plt.yticks([-0.5, 0.0, 1.0, 2.0, 3.0, 4.0, 5.0])\n",
    "#plt.legend()\n",
    "#plt.legend()\n",
    "plt.xticks([])"
   ]
  },
  {
   "cell_type": "code",
   "execution_count": 9,
   "id": "small-cause",
   "metadata": {},
   "outputs": [],
   "source": [
    "node = LearnableRobustAverageNew(50, penalty='pseudo-huber', alpha=alpha_init)\n",
    "y_target=y_init.mean()\n",
    "y_mean_init,_=node.solve(y,alpha_init)\n",
    "#print(y_init,y_target,node.solve(x_init,0.4))\n",
    "# alpha_gd1, history1,alphas1,ys1,x_final1 = lbfgs(node, y_target,max_iters=1000,x_init=x_init,theta_init=alpha_init, train_x=train_x)\n",
    "# print(alphas1)\n",
    "alpha_gd2, history2,alphas2,ys2,x_final2 = simpleGradientDescent(node, y_target,x_init=y, theta_init=alpha_init,step_size=0.25, train_x=False)\n",
    "y_mean_learned=node.solve(y_init,alphas2[-1])[0][0]"
   ]
  },
  {
   "cell_type": "code",
   "execution_count": 10,
   "id": "green-jewel",
   "metadata": {},
   "outputs": [
    {
     "name": "stdout",
     "output_type": "stream",
     "text": [
      "[-1.60535942]\n",
      "0.5372531753381605\n"
     ]
    }
   ],
   "source": [
    "print(alphas2[-1])\n",
    "#y_mean_learned=node.solve(y_init,alphas2[-1])[0][0]\n",
    "print(y_mean_learned)"
   ]
  },
  {
   "cell_type": "code",
   "execution_count": 11,
   "id": "administrative-excellence",
   "metadata": {},
   "outputs": [
    {
     "name": "stdout",
     "output_type": "stream",
     "text": [
      "1.2542456370413413 2.2288782581214432\n"
     ]
    },
    {
     "data": {
      "text/plain": [
       "([], [])"
      ]
     },
     "execution_count": 11,
     "metadata": {},
     "output_type": "execute_result"
    },
    {
     "data": {
      "image/png": "[encoded data removed]",
      "text/plain": [
       "<Figure size 432x576 with 1 Axes>"
      ]
     },
     "metadata": {
      "needs_background": "light"
     },
     "output_type": "display_data"
    }
   ],
   "source": [
    "np.random.seed(527)\n",
    "N = 50\n",
    "idx= np.random.choice(50, 20)\n",
    "#print(y[idx])\n",
    "colors=np.array(['black' for i in range(50)])\n",
    "x = np.random.rand(N)\n",
    "y_init = np.random.rand(N)\n",
    "y=y_init.copy()\n",
    "y[idx]=y[idx]*4+1\n",
    "colors[idx]='r'\n",
    "y_mean=y.mean()\n",
    "alpha_init=np.random.rand()*3+2\n",
    "print(y_mean,alpha_init)\n",
    "#print(y)\n",
    "plt.figure(figsize=(6,8))\n",
    "plt.figure(1)\n",
    "plt.subplot(111)\n",
    "plt.title('data with outliers 2(PH)')\n",
    "plt.scatter(x, y,c=colors,s=30)\n",
    "#plt.axhline(y=1.0, color='black', linestyle=':',label='bound')\n",
    "plt.axhline(y=y_mean_learned+0.04, color='blue', linestyle='-',label='robust mean(PH)',linewidth =2)\n",
    "plt.axhline(y=y_target, color='green', linestyle='-',label='mean (no outliers)',linewidth =2)\n",
    "#plt.axhline(y=y_mean, color='b', linestyle='-',label='init mean')\n",
    "#plt.axhline(y=alpha_init, color='g', linestyle='--',label='initial threshold(c)')\n",
    "plt.axhline(y=alphas2[-1], color='cyan', linestyle='--',label='threshold(c)')\n",
    "#plt.axhline(y=0.0, color='black', linestyle=':')\n",
    "plt.yticks([-0.5, 0.0, 1.0, 2.0, 3.0, 4.0, 5.0])\n",
    "#plt.legend()\n",
    "plt.xticks([])"
   ]
  },
  {
   "cell_type": "code",
   "execution_count": null,
   "id": "unable-directive",
   "metadata": {},
   "outputs": [],
   "source": []
  }
 ],
 "metadata": {
  "kernelspec": {
   "display_name": "Python 3",
   "language": "python",
   "name": "python3"
  },
  "language_info": {
   "codemirror_mode": {
    "name": "ipython",
    "version": 3
   },
   "file_extension": ".py",
   "mimetype": "text/x-python",
   "name": "python",
   "nbconvert_exporter": "python",
   "pygments_lexer": "ipython3",
   "version": "3.7.0"
  }
 },
 "nbformat": 4,
 "nbformat_minor": 5
}
